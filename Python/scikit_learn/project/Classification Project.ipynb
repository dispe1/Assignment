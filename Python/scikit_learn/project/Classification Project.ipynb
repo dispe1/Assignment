{
 "cells": [
  {
   "cell_type": "markdown",
   "metadata": {},
   "source": [
    "# Classification Project"
   ]
  },
  {
   "cell_type": "markdown",
   "metadata": {},
   "source": [
    "## File IO\n",
    "\n",
    "Only File IO...\n",
    "\n",
    "You may not change this code."
   ]
  },
  {
   "cell_type": "code",
   "execution_count": 1,
   "metadata": {},
   "outputs": [
    {
     "ename": "ModuleNotFoundError",
     "evalue": "No module named 'pandas'",
     "output_type": "error",
     "traceback": [
      "\u001b[1;31m---------------------------------------------------------------------------\u001b[0m",
      "\u001b[1;31mModuleNotFoundError\u001b[0m                       Traceback (most recent call last)",
      "\u001b[1;32m<ipython-input-1-3ed405d7f4e6>\u001b[0m in \u001b[0;36m<module>\u001b[1;34m()\u001b[0m\n\u001b[0;32m      1\u001b[0m \u001b[1;32mfrom\u001b[0m \u001b[0mtkinter\u001b[0m\u001b[1;33m.\u001b[0m\u001b[0mfiledialog\u001b[0m \u001b[1;32mimport\u001b[0m \u001b[0maskopenfilename\u001b[0m\u001b[1;33m\u001b[0m\u001b[0m\n\u001b[1;32m----> 2\u001b[1;33m \u001b[1;32mimport\u001b[0m \u001b[0mpandas\u001b[0m \u001b[1;32mas\u001b[0m \u001b[0mpd\u001b[0m\u001b[1;33m\u001b[0m\u001b[0m\n\u001b[0m\u001b[0;32m      3\u001b[0m \u001b[1;32mimport\u001b[0m \u001b[0mtkinter\u001b[0m\u001b[1;33m\u001b[0m\u001b[0m\n\u001b[0;32m      4\u001b[0m \u001b[1;32mimport\u001b[0m \u001b[0mos\u001b[0m\u001b[1;33m\u001b[0m\u001b[0m\n\u001b[0;32m      5\u001b[0m \u001b[1;33m\u001b[0m\u001b[0m\n",
      "\u001b[1;31mModuleNotFoundError\u001b[0m: No module named 'pandas'"
     ]
    }
   ],
   "source": [
    "from tkinter.filedialog import askopenfilename\n",
    "import pandas as pd\n",
    "import tkinter\n",
    "import os\n",
    "\n",
    "tk_window = tkinter.Tk()\n",
    "cwd = os.getcwd()\n",
    "\n",
    "tr_data = pd.read_csv(askopenfilename(title='Choose your training data'))\n",
    "\n",
    "tr_ans = pd.read_csv(askopenfilename(title='Choose your training answer'))\n",
    "\n",
    "tr_ans = tr_ans.iloc[:, 0]\n",
    "\n",
    "ts_data = pd.read_csv(askopenfilename(title='Choose your test data'))\n",
    "\n",
    "tk_window.destroy()\n",
    "\n"
   ]
  },
  {
   "cell_type": "markdown",
   "metadata": {},
   "source": [
    "## Predict Algorithm\n",
    "\n",
    "Type your source code (Champion Algorithm)"
   ]
  },
  {
   "cell_type": "code",
   "execution_count": null,
   "metadata": {},
   "outputs": [],
   "source": [
    "from sklearn.neighbors import KNeighborsClassifier\n",
    "\n",
    "\n",
    "knn = KNeighborsClassifier(n_neighbors=5, weights='distance')\n",
    "\n",
    "knn = knn.fit(tr_data, tr_ans)\n",
    "\n",
    "y_pred = knn.predict(ts_data)\n",
    "\n",
    "pred_df = pd.DataFrame(y_pred)\n",
    "\n",
    "pred_df.to_csv(\"output.csv\", mode='w')\n",
    "\n",
    "# End of Demo"
   ]
  },
  {
   "cell_type": "markdown",
   "metadata": {},
   "source": [
    "## Check Accuracy\n",
    "\n",
    "Only for check accuracy"
   ]
  },
  {
   "cell_type": "code",
   "execution_count": null,
   "metadata": {},
   "outputs": [],
   "source": [
    "def accuracy(real, predict):\n",
    "    return sum(real == predict) / float(real.shape[0])\n",
    "\n",
    "tk_window = tkinter.Tk()\n",
    "cwd = os.getcwd()\n",
    "ts_ans = pd.read_csv(askopenfilename(title='Choose your test answer'))\n",
    "ts_ans = ts_ans.iloc[:, 0]\n",
    "tk_window.destroy()\n",
    "\n",
    "print(accuracy(ts_ans, y_pred))"
   ]
  }
 ],
 "metadata": {
  "kernelspec": {
   "display_name": "Python 3",
   "language": "python",
   "name": "python3"
  }
 },
 "nbformat": 4,
 "nbformat_minor": 2
}
